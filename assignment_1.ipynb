{
  "nbformat": 4,
  "nbformat_minor": 0,
  "metadata": {
    "colab": {
      "provenance": [],
      "authorship_tag": "ABX9TyOxJl5qauTkbxE3E4+rTd/m",
      "include_colab_link": true
    },
    "kernelspec": {
      "name": "python3",
      "display_name": "Python 3"
    },
    "language_info": {
      "name": "python"
    }
  },
  "cells": [
    {
      "cell_type": "markdown",
      "metadata": {
        "id": "view-in-github",
        "colab_type": "text"
      },
      "source": [
        "<a href=\"https://colab.research.google.com/github/ayushimondal/cloud-computing-coursework/blob/main/assignment_1.ipynb\" target=\"_parent\"><img src=\"https://colab.research.google.com/assets/colab-badge.svg\" alt=\"Open In Colab\"/></a>"
      ]
    },
    {
      "cell_type": "markdown",
      "source": [
        "**LAB ASSIGNMENT – 1**\n",
        "\n",
        "*(Lab assignment on basics of Python programming using strings and lists)*\n",
        "\n"
      ],
      "metadata": {
        "id": "NU7UYcVnzlUr"
      }
    },
    {
      "cell_type": "markdown",
      "source": [
        "1. Write a Python program to print the following string in a specific format\n",
        "\n"
      ],
      "metadata": {
        "id": "KROg8Pzky3ti"
      }
    },
    {
      "cell_type": "code",
      "source": [
        "#Q1\n",
        "print(\"Twinkle, twinkle, little star,\")\n",
        "print(\"  How I wonder what you are!\")\n",
        "print(\"   Up above the world so high,\")\n",
        "print(\"   Like a diamond in the sky.\")\n",
        "print(\"Twinkle, twinkle, little star,\")\n",
        "print(\"  How I wonder what you are\")\n",
        "print(\"Name- Ayushi Mondal\")\n",
        "print(\"Roll no.- 102319092\")\n",
        "print(\"Subgroup - 3S14\")"
      ],
      "metadata": {
        "colab": {
          "base_uri": "https://localhost:8080/"
        },
        "id": "ByRM52bjtZaT",
        "outputId": "ff23856c-0cf6-40a8-bf23-89234344a322"
      },
      "execution_count": null,
      "outputs": [
        {
          "output_type": "stream",
          "name": "stdout",
          "text": [
            "Twinkle, twinkle, little star,\n",
            "  How I wonder what you are!\n",
            "   Up above the world so high,\n",
            "   Like a diamond in the sky.\n",
            "Twinkle, twinkle, little star,\n",
            "  How I wonder what you are\n",
            "Name- Ayushi Mondal\n",
            "Roll no.- 102319092\n",
            "Subgroup - 3S14\n"
          ]
        }
      ]
    },
    {
      "cell_type": "markdown",
      "source": [
        "2. Write a Python program to display the current date and time.\n",
        "\n"
      ],
      "metadata": {
        "id": "n8Om8e6KzGnM"
      }
    },
    {
      "cell_type": "code",
      "source": [
        "#Q2\n",
        "from datetime import datetime\n",
        "current_time = datetime.now()\n",
        "print(\"Current Date and Time: \")\n",
        "print(current_time.strftime(\"%d-%m-%y %H:%M:%S\"))\n",
        "print(\"Name- Ayushi Mondal\")\n",
        "print(\"Roll no.- 102319092\")\n",
        "print(\"Subgroup - 3S14\")"
      ],
      "metadata": {
        "colab": {
          "base_uri": "https://localhost:8080/"
        },
        "id": "8wapeyJVt75a",
        "outputId": "1024addb-188d-4243-883b-da105c0c33d4"
      },
      "execution_count": null,
      "outputs": [
        {
          "output_type": "stream",
          "name": "stdout",
          "text": [
            "Current Date and Time: \n",
            "04-08-25 10:55:06\n",
            "Name- Ayushi Mondal\n",
            "Roll no.- 102319092\n",
            "Subgroup - 3S14\n"
          ]
        }
      ]
    },
    {
      "cell_type": "markdown",
      "source": [
        "3. Write a Python program which accepts the radius of a circle from the user and compute the area.\n",
        "\n"
      ],
      "metadata": {
        "id": "2bZZKj8_zJq7"
      }
    },
    {
      "cell_type": "code",
      "source": [
        "#Q3\n",
        "import math\n",
        "r = float(input(\"Enter radius: \"))\n",
        "area = math.pi*(r**2)\n",
        "print(f\"area is : {area:.2f}\")\n",
        "print(\"Name- Ayushi Mondal\")\n",
        "print(\"Roll no.- 102319092\")\n",
        "print(\"Subgroup - 3S14\")"
      ],
      "metadata": {
        "colab": {
          "base_uri": "https://localhost:8080/"
        },
        "id": "mT8mMzxruLPl",
        "outputId": "10b9959c-a357-4258-a50c-ce84a546556b"
      },
      "execution_count": null,
      "outputs": [
        {
          "output_type": "stream",
          "name": "stdout",
          "text": [
            "Enter radius: 10\n",
            "area is : 314.16\n",
            "Name- Ayushi Mondal\n",
            "Roll no.- 102319092\n",
            "Subgroup - 3S14\n"
          ]
        }
      ]
    },
    {
      "cell_type": "markdown",
      "source": [
        "4. Write a Python program which accepts the user's first and last name and print them in reverse order with a space between them."
      ],
      "metadata": {
        "id": "uFVObeiczSDK"
      }
    },
    {
      "cell_type": "code",
      "source": [
        "#Q4\n",
        "first_name = input(\"Enter first name: \")\n",
        "last_name = input(\"Enter last name: \")\n",
        "reversed_first_name = first_name[::-1]\n",
        "reversed_last_name = last_name[::-1]\n",
        "output = reversed_last_name + \" \" + reversed_first_name\n",
        "print(\"Reversed order of name is \" + output)\n",
        "print(\"Name- Ayushi Mondal\")\n",
        "print(\"Roll no.- 102319092\")\n",
        "print(\"Subgroup - 3S14\")"
      ],
      "metadata": {
        "colab": {
          "base_uri": "https://localhost:8080/"
        },
        "id": "N8dOETPsuV0a",
        "outputId": "b8112049-aea1-4f6b-f328-584333f74aa5"
      },
      "execution_count": null,
      "outputs": [
        {
          "output_type": "stream",
          "name": "stdout",
          "text": [
            "Enter first name: Ayushi \n",
            "Enter last name: Mondal\n",
            "Reversed order of name is ladnoM  ihsuyA\n",
            "Name- Ayushi Mondal\n",
            "Roll no.- 102319092\n",
            "Subgroup - 3S14\n"
          ]
        }
      ]
    },
    {
      "cell_type": "markdown",
      "source": [
        "5. Write a Python program to accept a filename from the user and print the extension of that.\n",
        "\n"
      ],
      "metadata": {
        "id": "2aKb5WhWzV-_"
      }
    },
    {
      "cell_type": "code",
      "source": [
        "#Q5\n",
        "filename = input(\"Enter the filename: \")\n",
        "file_extension = filename.split('.')[-1]\n",
        "print(\"Extension of file is \"+ file_extension)\n",
        "print(\"Name- Ayushi Mondal\")\n",
        "print(\"Roll no.- 102319092\")\n",
        "print(\"Subgroup - 3S14\")"
      ],
      "metadata": {
        "colab": {
          "base_uri": "https://localhost:8080/"
        },
        "id": "luJXIjhgvIA8",
        "outputId": "90a16b2a-1515-4243-8f30-84ca818fc89c"
      },
      "execution_count": null,
      "outputs": [
        {
          "output_type": "stream",
          "name": "stdout",
          "text": [
            "Enter the filename: ayushi.ipynb\n",
            "Extension of file is ipynb\n",
            "Name- Ayushi Mondal\n",
            "Roll no.- 102319092\n",
            "Subgroup - 3S14\n"
          ]
        }
      ]
    },
    {
      "cell_type": "markdown",
      "source": [
        "6. Write a Python program to display the first and last colors from a list.\n",
        "\n"
      ],
      "metadata": {
        "id": "KQPwRiGczYVL"
      }
    },
    {
      "cell_type": "code",
      "source": [
        "#Q6\n",
        "def first_last_color(color_list):\n",
        " if not color_list:\n",
        "  return \"The list is empty\"\n",
        " return f\"First color: {color_list[0]}, Last color: {color_list[-1]}\"\n",
        "colors = [\"Red\", \"Blue\", \"Green\", \"Yellow\"]\n",
        "print(first_last_color(colors))\n",
        "print(\"Name- Ayushi Mondal\")\n",
        "print(\"Roll no.- 102319092\")\n",
        "print(\"Subgroup - 3S14\")"
      ],
      "metadata": {
        "colab": {
          "base_uri": "https://localhost:8080/"
        },
        "id": "OWP3PipcvUAX",
        "outputId": "088eec33-15e6-4756-da67-8e667e4a50c0"
      },
      "execution_count": null,
      "outputs": [
        {
          "output_type": "stream",
          "name": "stdout",
          "text": [
            "First color: Red, Last color: Yellow\n",
            "Name- Ayushi Mondal\n",
            "Roll no.- 102319092\n",
            "Subgroup - 3S14\n"
          ]
        }
      ]
    },
    {
      "cell_type": "markdown",
      "source": [
        "7. Write a Python program that accepts an integer (n) and computes the value of n+nn+nnn.\n",
        "\n"
      ],
      "metadata": {
        "id": "X5MGjX3UzatT"
      }
    },
    {
      "cell_type": "code",
      "source": [
        "#Q7\n",
        "def compute(n):\n",
        " nn= int(str(n)*2)\n",
        " nnn= int(str(n)*3)\n",
        " return n + nn + nnn\n",
        "n = int(input(\"Enter n: \"))\n",
        "result= compute(n)\n",
        "print(f'Answer={result}')\n",
        "print(\"Name- Ayushi Mondal\")\n",
        "print(\"Roll no.- 102319092\")\n",
        "print(\"Subgroup - 3S14\")"
      ],
      "metadata": {
        "colab": {
          "base_uri": "https://localhost:8080/"
        },
        "id": "0GETJLe6vnlt",
        "outputId": "1d48d158-971c-4d27-aec6-6e2c36896640"
      },
      "execution_count": null,
      "outputs": [
        {
          "output_type": "stream",
          "name": "stdout",
          "text": [
            "Enter n: 7\n",
            "Answer=861\n",
            "Name- Ayushi Mondal\n",
            "Roll no.- 102319092\n",
            "Subgroup - 3S14\n"
          ]
        }
      ]
    },
    {
      "cell_type": "markdown",
      "source": [
        "8. Write a Python program to test whether a number is within 100 of 1000 or 2000.\n",
        "\n"
      ],
      "metadata": {
        "id": "nzyYsfQ9zdIP"
      }
    },
    {
      "cell_type": "code",
      "source": [
        "#Q8\n",
        "def x(n):\n",
        " return abs(1000-n)<=100 or abs(2000-n)<=100\n",
        "num = int(input(\"Enter number: \"))\n",
        "if x(num):\n",
        " print(f\"{num} is within 100 of 1000 and 2000\")\n",
        "else:\n",
        " print(f\"{num} is not within 100 of 1000 and 2000\")\n",
        "print(\"Name- Ayushi Mondal\")\n",
        "print(\"Roll no.- 102319092\")\n",
        "print(\"Subgroup - 3S14\")"
      ],
      "metadata": {
        "colab": {
          "base_uri": "https://localhost:8080/"
        },
        "id": "ZCwB15XAv3bA",
        "outputId": "3b230a38-c721-463f-b8f6-8298e9c7652e"
      },
      "execution_count": null,
      "outputs": [
        {
          "output_type": "stream",
          "name": "stdout",
          "text": [
            "Enter number: 10\n",
            "10 is not within 100 of 1000 and 2000\n",
            "Name- Ayushi Mondal\n",
            "Roll no.- 102319092\n",
            "Subgroup - 3S14\n"
          ]
        }
      ]
    },
    {
      "cell_type": "markdown",
      "source": [
        "9. Write a Python program to find whether a given number (accept from the user) is even or odd, print out an appropriate message to the user."
      ],
      "metadata": {
        "id": "zQ1YoYwAzfzE"
      }
    },
    {
      "cell_type": "code",
      "source": [
        "def check(num):\n",
        " if num%2 == 0:\n",
        "  print(f\"{num} is even\")\n",
        " else:\n",
        "  print(f\"{num} is odd\")\n",
        "num= int(input(\"Enter number: \"))\n",
        "check(num)\n",
        "print(\"Name- Ayushi Mondal\")\n",
        "print(\"Roll no.- 102319092\")\n",
        "print(\"Subgroup - 3S14\")"
      ],
      "metadata": {
        "colab": {
          "base_uri": "https://localhost:8080/"
        },
        "id": "KCVE7S9jwCw7",
        "outputId": "65864b14-6541-46c7-db11-dc4c653848bf"
      },
      "execution_count": null,
      "outputs": [
        {
          "output_type": "stream",
          "name": "stdout",
          "text": [
            "Enter number: 12\n",
            "12 is even\n",
            "Name- Ayushi Mondal\n",
            "Roll no.- 102319092\n",
            "Subgroup - 3S14\n"
          ]
        }
      ]
    },
    {
      "cell_type": "markdown",
      "source": [
        "10. Write a Python program to count the number 4 in a given list.\n",
        "\n"
      ],
      "metadata": {
        "id": "eoA2sZr0ziK8"
      }
    },
    {
      "cell_type": "code",
      "source": [
        "#Q10\n",
        "def count(num_list):\n",
        " return num_list.count(4)\n",
        "numbers = [1,4,2,4,4,7,3,4,1,4]\n",
        "result = count(numbers)\n",
        "print(f\"Number of 4 are {result}\")\n",
        "print(\"Name- Ayushi Mondal\")\n",
        "print(\"Roll no.- 102319092\")\n",
        "print(\"Subgroup - 3S14\")"
      ],
      "metadata": {
        "colab": {
          "base_uri": "https://localhost:8080/"
        },
        "id": "HhUvL2VOwWdR",
        "outputId": "3fc132a0-7f14-4d45-88bc-f6ea91126062"
      },
      "execution_count": null,
      "outputs": [
        {
          "output_type": "stream",
          "name": "stdout",
          "text": [
            "Number of 4 are 5\n",
            "Name- Ayushi Mondal\n",
            "Roll no.- 102319092\n",
            "Subgroup - 3S14\n"
          ]
        }
      ]
    }
  ]
}