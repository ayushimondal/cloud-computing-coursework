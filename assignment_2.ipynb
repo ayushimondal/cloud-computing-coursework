{
  "nbformat": 4,
  "nbformat_minor": 0,
  "metadata": {
    "colab": {
      "provenance": [],
      "gpuType": "T4",
      "authorship_tag": "ABX9TyPz5R0t/oC1Np1v77BxXMFc",
      "include_colab_link": true
    },
    "kernelspec": {
      "name": "python3",
      "display_name": "Python 3"
    },
    "language_info": {
      "name": "python"
    },
    "accelerator": "GPU"
  },
  "cells": [
    {
      "cell_type": "markdown",
      "metadata": {
        "id": "view-in-github",
        "colab_type": "text"
      },
      "source": [
        "<a href=\"https://colab.research.google.com/github/ayushimondal/cloud-computing-coursework/blob/main/assignment_2.ipynb\" target=\"_parent\"><img src=\"https://colab.research.google.com/assets/colab-badge.svg\" alt=\"Open In Colab\"/></a>"
      ]
    },
    {
      "cell_type": "markdown",
      "source": [
        "**LAB ASSIGNMENT – 2**\n",
        "\n",
        "*(Lab assignment on revising the basics of python programming using tuples,lists and dictionaries)*"
      ],
      "metadata": {
        "id": "VYU3EL0omqt4"
      }
    },
    {
      "cell_type": "markdown",
      "source": [
        "1. Write a Python program to test whether a passed letter is a vowel or not."
      ],
      "metadata": {
        "id": "r38oGWoPmw6D"
      }
    },
    {
      "cell_type": "code",
      "execution_count": 1,
      "metadata": {
        "colab": {
          "base_uri": "https://localhost:8080/"
        },
        "id": "61rYFmSemhEs",
        "outputId": "35f2213f-7d36-4bf3-8f85-f3bbe6baa1c7"
      },
      "outputs": [
        {
          "output_type": "stream",
          "name": "stdout",
          "text": [
            "Enter letter: A\n",
            "A is vowel\n",
            "Name-Ayushi Mondal\n",
            "R.No- 102319092\n",
            "Group-3S14\n"
          ]
        }
      ],
      "source": [
        "#Q1\n",
        "def is_vowel(letter):\n",
        " vowels = \"aeiouAEIOU\"\n",
        " return letter in vowels\n",
        "\n",
        "letter = input(\"Enter letter: \")\n",
        "if len(letter)==1 and letter.isalpha():\n",
        " if is_vowel(letter):\n",
        "  print(f\"{letter} is vowel\")\n",
        " else:\n",
        "  print(f\"{letter} is not vowel.\")\n",
        "print('Name-Ayushi Mondal')\n",
        "print('R.No- 102319092')\n",
        "print('Group-3S14')"
      ]
    },
    {
      "cell_type": "markdown",
      "source": [
        "2.Write a Python program to print out a set containing all the colors from color_list_1 which are not present in color_list_2."
      ],
      "metadata": {
        "id": "yWP1EkI7mo45"
      }
    },
    {
      "cell_type": "code",
      "source": [
        "#Q2\n",
        "list1 = {\"White\", \"Black\", \"Red\"}\n",
        "list2 = {\"Red\", \"Green\"}\n",
        "unique = list1 - list2\n",
        "print(f\"Result: {unique}\")\n",
        "print('Name-Ayushi Mondal')\n",
        "print('R.No- 102319092')\n",
        "print('Group-3S14')"
      ],
      "metadata": {
        "id": "XvLil_Qin16o",
        "colab": {
          "base_uri": "https://localhost:8080/"
        },
        "outputId": "cedba9f7-e995-4ecf-ec24-33cc53dfc00a"
      },
      "execution_count": 2,
      "outputs": [
        {
          "output_type": "stream",
          "name": "stdout",
          "text": [
            "Result: {'Black', 'White'}\n",
            "Name-Ayushi Mondal\n",
            "R.No- 102319092\n",
            "Group-3S14\n"
          ]
        }
      ]
    },
    {
      "cell_type": "markdown",
      "source": [
        "3.Write a Python program to solve (x + y) * (x + y)."
      ],
      "metadata": {
        "id": "10hpYB9toGHA"
      }
    },
    {
      "cell_type": "code",
      "source": [
        "#Q3\n",
        "def calculate(x,y):\n",
        " result= (x+y)*(x+y)\n",
        " return result\n",
        "try:\n",
        " x=int(input(\"Enter x: \"))\n",
        " y=int(input(\"Enter y: \"))\n",
        " result = calculate(x,y)\n",
        " print(f\"Result is {result}\")\n",
        "except:\n",
        " print(\"Invalid\")\n",
        "print('Name-Ayushi Mondal')\n",
        "print('R.No- 102319092')\n",
        "print('Group-3S14')"
      ],
      "metadata": {
        "id": "R5EPQSOroE2W",
        "colab": {
          "base_uri": "https://localhost:8080/"
        },
        "outputId": "6b89708d-fd32-4177-8be2-83ee0e137a97"
      },
      "execution_count": 3,
      "outputs": [
        {
          "output_type": "stream",
          "name": "stdout",
          "text": [
            "Enter x: 10\n",
            "Enter y: 11\n",
            "Result is 441\n",
            "Name-Ayushi Mondal\n",
            "R.No- 102319092\n",
            "Group-3S14\n"
          ]
        }
      ]
    },
    {
      "cell_type": "markdown",
      "source": [
        "4. Write a Python program to calculate the sum of the digits in an integer."
      ],
      "metadata": {
        "id": "uZr8C317oESj"
      }
    },
    {
      "cell_type": "code",
      "source": [
        "#Q4\n",
        "def sum_of_digits(number):\n",
        " number=abs(number)\n",
        " digit_sum=sum(int(digit) for digit in str(number))\n",
        " return digit_sum\n",
        "try:\n",
        " number = int(input(\"Enter integer: \"))\n",
        " result=sum_of_digits(number)\n",
        " print(f\"Sum of digits is {result}\")\n",
        "except ValueError:\n",
        " print(\"Invalid input!\")\n",
        "print('Name-Ayushi Mondal')\n",
        "print('R.No- 102319092')\n",
        "print('Group-3S14')"
      ],
      "metadata": {
        "colab": {
          "base_uri": "https://localhost:8080/"
        },
        "id": "IFybSMzJot3i",
        "outputId": "535e8936-d3f9-4297-a0e7-e1eaf7165a83"
      },
      "execution_count": 4,
      "outputs": [
        {
          "output_type": "stream",
          "name": "stdout",
          "text": [
            "Enter integer: 45678\n",
            "Sum of digits is 30\n",
            "Name-Ayushi Mondal\n",
            "R.No- 102319092\n",
            "Group-3S14\n"
          ]
        }
      ]
    },
    {
      "cell_type": "markdown",
      "source": [
        "5. Write a Python program to calculate the length of a string."
      ],
      "metadata": {
        "id": "-1FY38TzotFY"
      }
    },
    {
      "cell_type": "code",
      "source": [
        "#Q5\n",
        "def calculate_length(string):\n",
        " return len(string)\n",
        "\n",
        "User_String = input(\"Enter a String: \")\n",
        "length = calculate_length(User_String)\n",
        "print(f\"The length of string is {length}\")\n",
        "print('Name-Ayushi Mondal')\n",
        "print('R.No- 102319092')\n",
        "print('Group-3S14')"
      ],
      "metadata": {
        "id": "TINFl1X4pJNd",
        "colab": {
          "base_uri": "https://localhost:8080/"
        },
        "outputId": "0db8d7dd-4507-40c4-bf4f-3f231f7cde9c"
      },
      "execution_count": 5,
      "outputs": [
        {
          "output_type": "stream",
          "name": "stdout",
          "text": [
            "Enter a String: Ayushi Mondal\n",
            "The length of string is 13\n",
            "Name-Ayushi Mondal\n",
            "R.No- 102319092\n",
            "Group-3S14\n"
          ]
        }
      ]
    },
    {
      "cell_type": "markdown",
      "source": [
        "6. Write a Python program to get a single string from two given strings, separated by a space and swap the first two characters of each string."
      ],
      "metadata": {
        "id": "9q6DelNFpcy0"
      }
    },
    {
      "cell_type": "code",
      "source": [
        "#Q6\n",
        "def swap(s1, s2):\n",
        " if len(s1)<2 or len(s2)<2:\n",
        "  return \"Error: String must have two characters\"\n",
        "\n",
        " swapped_s1 = s2[:2]+s1[2:]\n",
        " swapped_s2 = s1[:2]+s2[2:]\n",
        " return swapped_s1 +\" \"+swapped_s2\n",
        "\n",
        "str1=input(\"Enter first string: \")\n",
        "str2=input(\"Enter second string: \")\n",
        "result= swap(str1, str2)\n",
        "print(\"Result: \", result)\n",
        "print('Name-Ayushi Mondal')\n",
        "print('R.No- 102319092')\n",
        "print('Group-3S14')"
      ],
      "metadata": {
        "id": "6qNvqe8GpfMU",
        "colab": {
          "base_uri": "https://localhost:8080/"
        },
        "outputId": "bc06b8c8-8331-4027-92e2-0f4f14a58cb7"
      },
      "execution_count": 6,
      "outputs": [
        {
          "output_type": "stream",
          "name": "stdout",
          "text": [
            "Enter first string: Ayushi\n",
            "Enter second string: Mondal\n",
            "Result:  Moushi Ayndal\n",
            "Name-Ayushi Mondal\n",
            "R.No- 102319092\n",
            "Group-3S14\n"
          ]
        }
      ]
    },
    {
      "cell_type": "markdown",
      "source": [
        "7. Write a Python program to remove the nth index character from a nonempty string."
      ],
      "metadata": {
        "id": "YaFwzg6Qp23-"
      }
    },
    {
      "cell_type": "code",
      "source": [
        "#Q7\n",
        "def remove(s,n):\n",
        " if 0<=n<len(s):\n",
        "  return s[:n]+s[n+1:]\n",
        " else:\n",
        "  return \"Error: Index Out of Range\"\n",
        "string=input(\"Enter String: \")\n",
        "index= int(input(\"Enter index to remove: \"))\n",
        "result= remove(string, index)\n",
        "print(f\"Updated String: {result}\")\n",
        "print('Name-Ayushi Mondal')\n",
        "print('R.No- 102319092')\n",
        "print('Group-3S14')"
      ],
      "metadata": {
        "id": "-ldOpqjZp68j",
        "colab": {
          "base_uri": "https://localhost:8080/"
        },
        "outputId": "37a40f3d-7d8d-4944-cd97-69ea51e50792"
      },
      "execution_count": 7,
      "outputs": [
        {
          "output_type": "stream",
          "name": "stdout",
          "text": [
            "Enter String: Ayushi Mondal\n",
            "Enter index to remove: 2\n",
            "Updated String: Ayshi Mondal\n",
            "Name-Ayushi Mondal\n",
            "R.No- 102319092\n",
            "Group-3S14\n"
          ]
        }
      ]
    },
    {
      "cell_type": "markdown",
      "source": [
        "8. Write a Python script that takes input from the user and displays that input back in upper and lower cases."
      ],
      "metadata": {
        "id": "U3A--PHqqX8H"
      }
    },
    {
      "cell_type": "code",
      "source": [
        "#Q8\n",
        "input = input(\"Enter String: \")\n",
        "print(\"Uppercase: \", input.upper())\n",
        "print(\"Uppercase: \", input.lower())\n",
        "print('Name-Ayushi Mondal')\n",
        "print('R.No- 102319092')\n",
        "print('Group-3S14')"
      ],
      "metadata": {
        "id": "YFlRsSSCqgwj",
        "colab": {
          "base_uri": "https://localhost:8080/"
        },
        "outputId": "5ccbd56f-fe24-4a59-9d0f-5622fa9e2f9b"
      },
      "execution_count": 8,
      "outputs": [
        {
          "output_type": "stream",
          "name": "stdout",
          "text": [
            "Enter String: Ayushi Mondal\n",
            "Uppercase:  AYUSHI MONDAL\n",
            "Uppercase:  ayushi mondal\n",
            "Name-Ayushi Mondal\n",
            "R.No- 102319092\n",
            "Group-3S14\n"
          ]
        }
      ]
    },
    {
      "cell_type": "markdown",
      "source": [
        "9. Write a Python function to insert a string in the middle of a string."
      ],
      "metadata": {
        "id": "DBX-N8fZqugz"
      }
    },
    {
      "cell_type": "code",
      "source": [
        "#Q9\n",
        "def insert_middle(input, insert):\n",
        " mid = len(input)//2\n",
        " return input[:mid] + insert + input[mid:]\n",
        "\n",
        "input_string = \"Hello World\"\n",
        "insert_string = \" Python\"\n",
        "result = insert_middle(input_string, insert_string)\n",
        "print(result)\n",
        "print('Name-Ayushi Mondal')\n",
        "print('R.No- 102319092')\n",
        "print('Group-3S14')"
      ],
      "metadata": {
        "id": "9q4aWkxyqvdb",
        "colab": {
          "base_uri": "https://localhost:8080/"
        },
        "outputId": "644796c3-a078-4bb8-e7a3-a7fdd86aa3ec"
      },
      "execution_count": 9,
      "outputs": [
        {
          "output_type": "stream",
          "name": "stdout",
          "text": [
            "Hello Python World\n",
            "Name-Ayushi Mondal\n",
            "R.No- 102319092\n",
            "Group-3S14\n"
          ]
        }
      ]
    },
    {
      "cell_type": "markdown",
      "source": [
        "10. Write a Python program to print the floating numbers upto 2 decimal places with a sign."
      ],
      "metadata": {
        "id": "c44URVJ_rX8P"
      }
    },
    {
      "cell_type": "code",
      "source": [
        "#Q10\n",
        "num = float(input(\"Enter number: \"))\n",
        "print(f\"Number is: {num:+.2f}\")\n",
        "print('Name-Ayushi Mondal')\n",
        "print('R.No- 102319092')\n",
        "print('Group-3S14')"
      ],
      "metadata": {
        "id": "evSS_mvmsjoY",
        "colab": {
          "base_uri": "https://localhost:8080/"
        },
        "outputId": "7fd7df53-744b-40dd-860e-04f8b39aca8d"
      },
      "execution_count": 1,
      "outputs": [
        {
          "output_type": "stream",
          "name": "stdout",
          "text": [
            "Enter number: 99.09987\n",
            "Number is: +99.10\n",
            "Name-Ayushi Mondal\n",
            "R.No- 102319092\n",
            "Group-3S14\n"
          ]
        }
      ]
    }
  ]
}